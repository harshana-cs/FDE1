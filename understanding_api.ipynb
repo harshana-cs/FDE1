{
 "cells": [
  {
   "cell_type": "code",
   "execution_count": 3,
   "id": "9f529a16",
   "metadata": {},
   "outputs": [],
   "source": [
    "from Extractor_Code.json_extractor import JSONExtractor\n",
    "from Extractor_Code.database_connector import DatabaseConnector\n",
    "from Extractor_Code.api_extractor import APIExtractor\n"
   ]
  },
  {
   "cell_type": "code",
   "execution_count": 4,
   "id": "2e9e5993",
   "metadata": {},
   "outputs": [],
   "source": [
    "from dotenv import load_dotenv\n",
    "import yaml\n",
    "import os"
   ]
  },
  {
   "cell_type": "code",
   "execution_count": 6,
   "id": "656ced4a",
   "metadata": {},
   "outputs": [],
   "source": [
    "# adjust this path to where your .env actually lives\n",
    "load_dotenv(r\".env\")\n",
    "\n",
    "config_path = r\"config.yaml\"\n",
    "with open(config_path) as f:\n",
    "    raw = f.read()"
   ]
  },
  {
   "cell_type": "code",
   "execution_count": 7,
   "id": "422c7bb6",
   "metadata": {},
   "outputs": [
    {
     "name": "stdout",
     "output_type": "stream",
     "text": [
      "CONFIG: {'database': {'host': 'localhost', 'database': 'advancedsql', 'user': 'postgres', 'password': 'Harshana123', 'port': 5432}, 's3': {'bucket_name': 'fde-bucket-my', 'region': 'us-east-1', 'files': {'JSON/products.json': 'lnd_products_json', 'JSON/sales.json': 'lnd_sales_json', 'CSV/customers.csv': 'lnd_customers_csv', 'CSV/products.csv': 'lnd_products_csv', 'CSV/sales.csv': 'lnd_sales_csv'}}, 'api': {'endpoints': {'https://dummyjson.com/products': 'lnd_products_api', 'https://dummyjson.com/users': 'lnd_users_api'}}, 'schemas': {'landing_schema': 'landing', 'staging_schema': 'staging', 'transform_schema': 'transform', 'target_schema': 'target'}, 'entities': {'products': {'staging_view': 'stg_products', 'temp_table': 'tmp_products', 'target_table': 'dim_products'}, 'users': {'staging_view': 'stg_users', 'temp_table': 'tmp_users', 'target_table': 'dim_users'}, 'sales': {'staging_view': 'stg_sales', 'temp_table': 'tmp_sales', 'target_table': 'fact_sales'}}}\n",
      "TYPE of config['database']: <class 'dict'>\n"
     ]
    }
   ],
   "source": [
    "# expands ${DB_HOST}, ${DB_USER}, etc. using os.environ\n",
    "expanded = os.path.expandvars(raw)\n",
    "config = yaml.safe_load(expanded)\n",
    "\n",
    "# sanity check: should be a dict-of-dicts\n",
    "print(\"CONFIG:\", config)\n",
    "print(\"TYPE of config['database']:\", type(config['database']))"
   ]
  },
  {
   "cell_type": "code",
   "execution_count": 8,
   "id": "aa33fc25",
   "metadata": {},
   "outputs": [],
   "source": [
    "# 3) instantiate your connector with that dict\n",
    "db = DatabaseConnector(config)"
   ]
  },
  {
   "cell_type": "code",
   "execution_count": 9,
   "id": "f10ffd53",
   "metadata": {},
   "outputs": [],
   "source": [
    "conn = db.get_connection()\n",
    "cursor = conn.cursor()\n"
   ]
  },
  {
   "cell_type": "code",
   "execution_count": 10,
   "id": "f6935388",
   "metadata": {},
   "outputs": [],
   "source": [
    "table_name = 'lnd_products_json'\n"
   ]
  },
  {
   "cell_type": "code",
   "execution_count": 11,
   "id": "1903ef8e",
   "metadata": {},
   "outputs": [
    {
     "name": "stdout",
     "output_type": "stream",
     "text": [
      "Table 'lnd_products_json' has 'file_name' column: False\n"
     ]
    }
   ],
   "source": [
    "cursor.execute(\"\"\"\n",
    "    SELECT column_name\n",
    "    FROM information_schema.columns\n",
    "    WHERE table_schema = 'Landing' AND table_name = %s\n",
    "\"\"\", (table_name,))\n",
    "columns = [row[0] for row in cursor.fetchall()]\n",
    "has_file_name = 'file_name' in columns\n",
    "print(f\"Table '{table_name}' has 'file_name' column: {has_file_name}\")"
   ]
  },
  {
   "cell_type": "markdown",
   "id": "12b45c06",
   "metadata": {},
   "source": [
    "### API\n"
   ]
  },
  {
   "cell_type": "code",
   "execution_count": 12,
   "id": "1525fa04",
   "metadata": {},
   "outputs": [
    {
     "data": {
      "text/plain": [
       "{'https://dummyjson.com/products': 'lnd_products_api',\n",
       " 'https://dummyjson.com/users': 'lnd_users_api'}"
      ]
     },
     "execution_count": 12,
     "metadata": {},
     "output_type": "execute_result"
    }
   ],
   "source": [
    "config['api']['endpoints']"
   ]
  },
  {
   "cell_type": "code",
   "execution_count": 13,
   "id": "d64184fe",
   "metadata": {},
   "outputs": [],
   "source": [
    "json_extractor = JSONExtractor(db)"
   ]
  },
  {
   "cell_type": "code",
   "execution_count": 14,
   "id": "3d4b2dbf",
   "metadata": {},
   "outputs": [],
   "source": [
    "api_extractor = APIExtractor(config,json_extractor)"
   ]
  },
  {
   "cell_type": "code",
   "execution_count": 15,
   "id": "221d885b",
   "metadata": {},
   "outputs": [
    {
     "name": "stderr",
     "output_type": "stream",
     "text": [
      "INFO:Extractor_Code.json_extractor:Loaded JSON data to lnd_products_api\n",
      "INFO:Extractor_Code.api_extractor:Loaded API data from https://dummyjson.com/products to lnd_products_api\n"
     ]
    }
   ],
   "source": [
    "api_extractor.extract_endpoint('https://dummyjson.com/products', 'lnd_products_api')"
   ]
  },
  {
   "cell_type": "code",
   "execution_count": 16,
   "id": "303c4f93",
   "metadata": {},
   "outputs": [
    {
     "name": "stderr",
     "output_type": "stream",
     "text": [
      "INFO:Extractor_Code.api_extractor:Processing https://dummyjson.com/products\n",
      "INFO:Extractor_Code.json_extractor:Loaded JSON data to lnd_products_api\n",
      "INFO:Extractor_Code.api_extractor:Loaded API data from https://dummyjson.com/products to lnd_products_api\n",
      "INFO:Extractor_Code.api_extractor:Processing https://dummyjson.com/users\n",
      "INFO:Extractor_Code.json_extractor:Loaded JSON data to lnd_users_api\n",
      "INFO:Extractor_Code.api_extractor:Loaded API data from https://dummyjson.com/users to lnd_users_api\n"
     ]
    }
   ],
   "source": [
    "api_extractor.extract_all()"
   ]
  },
  {
   "cell_type": "code",
   "execution_count": null,
   "id": "4b73cebc",
   "metadata": {},
   "outputs": [],
   "source": []
  }
 ],
 "metadata": {
  "kernelspec": {
   "display_name": "Python 3",
   "language": "python",
   "name": "python3"
  },
  "language_info": {
   "codemirror_mode": {
    "name": "ipython",
    "version": 3
   },
   "file_extension": ".py",
   "mimetype": "text/x-python",
   "name": "python",
   "nbconvert_exporter": "python",
   "pygments_lexer": "ipython3",
   "version": "3.13.5"
  }
 },
 "nbformat": 4,
 "nbformat_minor": 5
}
