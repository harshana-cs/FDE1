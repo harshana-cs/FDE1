{
 "cells": [
  {
   "cell_type": "code",
   "execution_count": 17,
   "id": "574a8b7a",
   "metadata": {},
   "outputs": [],
   "source": [
    "from Extractor_Code.s3_extractor import PublicS3Extractor\n",
    "from Extractor_Code.main_extractor import MainExtractor\n",
    "from Extractor_Code.database_connector import DatabaseConnector\n",
    "from Extractor_Code.csv_extractor import CSVExtractor\n",
    "from Extractor_Code.json_extractor import JSONExtractor "
   ]
  },
  {
   "cell_type": "code",
   "execution_count": 18,
   "id": "727aef7f",
   "metadata": {},
   "outputs": [
    {
     "name": "stdout",
     "output_type": "stream",
     "text": [
      "CONFIG: {'database': {'host': 'localhost', 'database': 'advancedsql', 'user': 'postgres', 'password': 'Harshana123', 'port': 5432}, 's3': {'bucket_name': 'fde-bucket-my', 'region': 'us-east-1', 'files': {'JSON/products.json': 'lnd_products_json', 'JSON/sales.json': 'lnd_sales_json', 'CSV/customers.csv': 'lnd_customers_csv', 'CSV/products.csv': 'lnd_products_csv', 'CSV/sales.csv': 'lnd_sales_csv'}}, 'api': {'endpoints': {'https://dummyjson.com/products': 'lnd_products_api', 'https://dummyjson.com/users': 'lnd_users_api'}}, 'schemas': {'landing_schema': 'landing', 'staging_schema': 'staging', 'transform_schema': 'transform', 'target_schema': 'target'}, 'entities': {'products': {'staging_view': 'stg_products', 'temp_table': 'tmp_products', 'target_table': 'dim_products'}, 'users': {'staging_view': 'stg_users', 'temp_table': 'tmp_users', 'target_table': 'dim_users'}, 'sales': {'staging_view': 'stg_sales', 'temp_table': 'tmp_sales', 'target_table': 'fact_sales'}}}\n",
      "TYPE of config['database']: <class 'dict'>\n"
     ]
    }
   ],
   "source": [
    "from dotenv import load_dotenv\n",
    "import yaml\n",
    "import os\n",
    "\n",
    "# adjust this path to where your .env actually lives\n",
    "load_dotenv(r\"F:\\Data Engineering\\Virtual Environment\\.env\")\n",
    "\n",
    "config_path = r\"F:\\Data Engineering\\Virtual Environment\\config.yaml\"\n",
    "with open(config_path) as f:\n",
    "    raw = f.read()\n",
    "\n",
    "\n",
    "# expands ${DB_HOST}, ${DB_USER}, etc. using os.environ\n",
    "expanded = os.path.expandvars(raw)\n",
    "config = yaml.safe_load(expanded)\n",
    "\n",
    "# sanity check: should be a dict-of-dicts\n",
    "print(\"CONFIG:\", config)\n",
    "print(\"TYPE of config['database']:\", type(config['database']))"
   ]
  },
  {
   "cell_type": "code",
   "execution_count": 19,
   "id": "91167636",
   "metadata": {},
   "outputs": [],
   "source": [
    "# 3) instantiate your connector with that dict\n",
    "db = DatabaseConnector(config)\n",
    "csv_extractor = CSVExtractor(db)\n",
    "# main_extractor = MainExtractor(config_path=config_path)\n",
    "json_extractor = JSONExtractor(db)\n",
    "# s3_extractor = PublicS3Extractor(config, json_extractor, csv_extractor, main_extractor)"
   ]
  },
  {
   "cell_type": "code",
   "execution_count": 20,
   "id": "ef70dc51",
   "metadata": {},
   "outputs": [],
   "source": [
    "table_name = \"lnd_sales_csv\"  # replace"
   ]
  },
  {
   "cell_type": "code",
   "execution_count": 21,
   "id": "5e10c1ab",
   "metadata": {},
   "outputs": [
    {
     "ename": "NameError",
     "evalue": "name 'main_extractor' is not defined",
     "output_type": "error",
     "traceback": [
      "\u001b[31m---------------------------------------------------------------------------\u001b[39m",
      "\u001b[31mNameError\u001b[39m                                 Traceback (most recent call last)",
      "\u001b[36mCell\u001b[39m\u001b[36m \u001b[39m\u001b[32mIn[21]\u001b[39m\u001b[32m, line 1\u001b[39m\n\u001b[32m----> \u001b[39m\u001b[32m1\u001b[39m table_columns = \u001b[43mmain_extractor\u001b[49m.get_table_columns(table_name=table_name)\n\u001b[32m      2\u001b[39m \u001b[38;5;28mprint\u001b[39m(\u001b[33m\"\u001b[39m\u001b[33mTable columns:\u001b[39m\u001b[33m\"\u001b[39m, table_columns)\n",
      "\u001b[31mNameError\u001b[39m: name 'main_extractor' is not defined"
     ]
    }
   ],
   "source": [
    "table_columns = main_extractor.get_table_columns(table_name=table_name)\n",
    "print(\"Table columns:\", table_columns)"
   ]
  },
  {
   "cell_type": "code",
   "execution_count": 22,
   "id": "e1507725",
   "metadata": {},
   "outputs": [
    {
     "data": {
      "text/plain": [
       "['customerKey',\n",
       " 'StoreID',\n",
       " 'orderDate',\n",
       " 'XMLData',\n",
       " 'userProfileURL',\n",
       " 'HTTPRequest',\n",
       " 'SSLCertificate',\n",
       " 'simpleTest',\n",
       " 'CSVFileFormat',\n",
       " 'lastUpdatedAt']"
      ]
     },
     "execution_count": 22,
     "metadata": {},
     "output_type": "execute_result"
    }
   ],
   "source": [
    "test_list = examples = [\n",
    "    \"customerKey\",  \n",
    "    \"StoreID\",        \n",
    "    \"orderDate\",     \n",
    "    \"XMLData\",    \n",
    "    \"userProfileURL\",  \n",
    "    \"HTTPRequest\",     \n",
    "    \"SSLCertificate\",\n",
    "    \"simpleTest\",      \n",
    "    \"CSVFileFormat\",    \n",
    "    \"lastUpdatedAt\", \n",
    "]\n",
    "test_list"
   ]
  },
  {
   "cell_type": "code",
   "execution_count": 23,
   "id": "499b465a",
   "metadata": {},
   "outputs": [
    {
     "name": "stdout",
     "output_type": "stream",
     "text": [
      "customer_key\n",
      "store_id\n",
      "order_date\n",
      "xml_data\n",
      "user_profile_url\n",
      "http_request\n",
      "ssl_certificate\n",
      "simple_test\n",
      "csv_file_format\n",
      "last_updated_at\n"
     ]
    }
   ],
   "source": [
    "for item in test_list:\n",
    "    print(CSVExtractor.camel_to_snake(item))"
   ]
  },
  {
   "cell_type": "code",
   "execution_count": 24,
   "id": "2fc480c0",
   "metadata": {},
   "outputs": [
    {
     "data": {
      "text/plain": [
       "{'JSON/products.json': 'lnd_products_json',\n",
       " 'JSON/sales.json': 'lnd_sales_json',\n",
       " 'CSV/customers.csv': 'lnd_customers_csv',\n",
       " 'CSV/products.csv': 'lnd_products_csv',\n",
       " 'CSV/sales.csv': 'lnd_sales_csv'}"
      ]
     },
     "execution_count": 24,
     "metadata": {},
     "output_type": "execute_result"
    }
   ],
   "source": [
    "files_mapping = config['s3']['files']\n",
    "files_mapping"
   ]
  },
  {
   "cell_type": "code",
   "execution_count": 25,
   "id": "ecc1e94b",
   "metadata": {},
   "outputs": [
    {
     "ename": "NameError",
     "evalue": "name 's3_extractor' is not defined",
     "output_type": "error",
     "traceback": [
      "\u001b[31m---------------------------------------------------------------------------\u001b[39m",
      "\u001b[31mNameError\u001b[39m                                 Traceback (most recent call last)",
      "\u001b[36mCell\u001b[39m\u001b[36m \u001b[39m\u001b[32mIn[25]\u001b[39m\u001b[32m, line 2\u001b[39m\n\u001b[32m      1\u001b[39m \u001b[38;5;28;01mfor\u001b[39;00m s3_key, file_info \u001b[38;5;129;01min\u001b[39;00m files_mapping.items():\n\u001b[32m----> \u001b[39m\u001b[32m2\u001b[39m     public_url = \u001b[43ms3_extractor\u001b[49m.get_public_url(s3_key)\n\u001b[32m      3\u001b[39m     \u001b[38;5;28mprint\u001b[39m(\u001b[33mf\u001b[39m\u001b[33m\"\u001b[39m\u001b[33mPublic URL for \u001b[39m\u001b[38;5;132;01m{\u001b[39;00ms3_key\u001b[38;5;132;01m}\u001b[39;00m\u001b[33m: \u001b[39m\u001b[38;5;132;01m{\u001b[39;00mpublic_url\u001b[38;5;132;01m}\u001b[39;00m\u001b[33m\"\u001b[39m)\n",
      "\u001b[31mNameError\u001b[39m: name 's3_extractor' is not defined"
     ]
    }
   ],
   "source": [
    "for s3_key, file_info in files_mapping.items():\n",
    "    public_url = s3_extractor.get_public_url(s3_key)\n",
    "    print(f\"Public URL for {s3_key}: {public_url}\")"
   ]
  }
 ],
 "metadata": {
  "kernelspec": {
   "display_name": "Python 3",
   "language": "python",
   "name": "python3"
  },
  "language_info": {
   "codemirror_mode": {
    "name": "ipython",
    "version": 3
   },
   "file_extension": ".py",
   "mimetype": "text/x-python",
   "name": "python",
   "nbconvert_exporter": "python",
   "pygments_lexer": "ipython3",
   "version": "3.13.5"
  }
 },
 "nbformat": 4,
 "nbformat_minor": 5
}
