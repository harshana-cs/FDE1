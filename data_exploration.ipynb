{
 "cells": [
  {
   "cell_type": "code",
   "execution_count": 64,
   "id": "991d392b",
   "metadata": {},
   "outputs": [],
   "source": [
    "import requests\n",
    "import pandas as pd"
   ]
  },
  {
   "cell_type": "code",
   "execution_count": 65,
   "id": "c5892bf7",
   "metadata": {},
   "outputs": [
    {
     "name": "stdout",
     "output_type": "stream",
     "text": [
      "Status Code: 200\n",
      "application/json; charset=utf-8\n"
     ]
    }
   ],
   "source": [
    "url_list =[\n",
    "    'https://dummyjson.com/products?skip=30&limit=30',\n",
    "    'https://dummyjson.com/users'\n",
    "]\n",
    "response_1 = requests.get(url_list[0])\n",
    "response_1.raise_for_status()\n",
    "print(f\"Status Code: {response_1.status_code}\")\n",
    "print(response_1.headers['Content-Type'])"
   ]
  },
  {
   "cell_type": "code",
   "execution_count": 66,
   "id": "563fe8fc",
   "metadata": {},
   "outputs": [
    {
     "name": "stdout",
     "output_type": "stream",
     "text": [
      "<class 'pandas.core.frame.DataFrame'>\n",
      "RangeIndex: 30 entries, 0 to 29\n",
      "Data columns (total 21 columns):\n",
      " #   Column                Non-Null Count  Dtype  \n",
      "---  ------                --------------  -----  \n",
      " 0   id                    30 non-null     int64  \n",
      " 1   title                 30 non-null     object \n",
      " 2   description           30 non-null     object \n",
      " 3   category              30 non-null     object \n",
      " 4   price                 30 non-null     float64\n",
      " 5   discountPercentage    30 non-null     float64\n",
      " 6   rating                30 non-null     float64\n",
      " 7   stock                 30 non-null     int64  \n",
      " 8   tags                  30 non-null     object \n",
      " 9   sku                   30 non-null     object \n",
      " 10  weight                30 non-null     int64  \n",
      " 11  dimensions            30 non-null     object \n",
      " 12  warrantyInformation   30 non-null     object \n",
      " 13  shippingInformation   30 non-null     object \n",
      " 14  availabilityStatus    30 non-null     object \n",
      " 15  reviews               30 non-null     object \n",
      " 16  returnPolicy          30 non-null     object \n",
      " 17  minimumOrderQuantity  30 non-null     int64  \n",
      " 18  meta                  30 non-null     object \n",
      " 19  images                30 non-null     object \n",
      " 20  thumbnail             30 non-null     object \n",
      "dtypes: float64(3), int64(4), object(14)\n",
      "memory usage: 5.1+ KB\n"
     ]
    }
   ],
   "source": [
    "data = response_1.json() \n",
    "df = pd.DataFrame(data)\n",
    "df\n",
    "\n",
    "df = pd.DataFrame(data['products'])\n",
    "df.info()"
   ]
  },
  {
   "cell_type": "code",
   "execution_count": 67,
   "id": "140cacb1",
   "metadata": {},
   "outputs": [],
   "source": [
    "import requests\n",
    "import pandas as pd\n",
    "import json\n",
    "import io\n",
    "import yaml\n",
    "from dotenv import load_dotenv\n",
    "import os\n",
    "\n",
    "load_dotenv()\n",
    "\n",
    "bucket_name_1 = os.getenv(\"S3_BUCKET_NAME\")\n",
    "region = 'us-east-1'\n",
    "\n",
    "with open(\"config.yaml\", \"r\") as f:\n",
    "    config = yaml.safe_load(f)\n",
    "files = config[\"s3\"][\"files\"].keys()"
   ]
  },
  {
   "cell_type": "code",
   "execution_count": 68,
   "id": "0d0c9456",
   "metadata": {},
   "outputs": [
    {
     "data": {
      "text/plain": [
       "dict_keys(['JSON/products.json', 'JSON/sales.json', 'CSV/customers.csv', 'CSV/products.csv', 'CSV/sales.csv'])"
      ]
     },
     "execution_count": 68,
     "metadata": {},
     "output_type": "execute_result"
    }
   ],
   "source": [
    "files"
   ]
  },
  {
   "cell_type": "code",
   "execution_count": 69,
   "id": "d4fe4a54",
   "metadata": {},
   "outputs": [
    {
     "name": "stdout",
     "output_type": "stream",
     "text": [
      "firstworkshop us-east-1\n"
     ]
    }
   ],
   "source": [
    "print(bucket_name_1, region)"
   ]
  },
  {
   "cell_type": "code",
   "execution_count": 70,
   "id": "69b3dc9e",
   "metadata": {},
   "outputs": [],
   "source": [
    "def get_public_url(s3_key):\n",
    "    return f\"https://{bucket_name_1}.s3.{region}.amazonaws.com/{s3_key}\"\n"
   ]
  },
  {
   "cell_type": "code",
   "execution_count": 71,
   "id": "82ba6c50",
   "metadata": {},
   "outputs": [
    {
     "name": "stdout",
     "output_type": "stream",
     "text": [
      "https://firstworkshop.s3.us-east-1.amazonaws.com/JSON/products.json\n",
      "JSON Columns: ['products']\n",
      "______________________\n",
      "<class 'pandas.core.frame.DataFrame'>\n",
      "RangeIndex: 25 entries, 0 to 24\n",
      "Data columns (total 1 columns):\n",
      " #   Column    Non-Null Count  Dtype \n",
      "---  ------    --------------  ----- \n",
      " 0   products  25 non-null     object\n",
      "dtypes: object(1)\n",
      "memory usage: 332.0+ bytes\n",
      "None\n",
      "https://firstworkshop.s3.us-east-1.amazonaws.com/JSON/sales.json\n",
      "JSON Columns: ['sales']\n",
      "______________________\n",
      "<class 'pandas.core.frame.DataFrame'>\n",
      "RangeIndex: 92 entries, 0 to 91\n",
      "Data columns (total 1 columns):\n",
      " #   Column  Non-Null Count  Dtype \n",
      "---  ------  --------------  ----- \n",
      " 0   sales   92 non-null     object\n",
      "dtypes: object(1)\n",
      "memory usage: 868.0+ bytes\n",
      "None\n",
      "https://firstworkshop.s3.us-east-1.amazonaws.com/CSV/customers.csv\n",
      "CSV Columns: ['customer_key', 'gender', 'name', 'city', 'state_code', 'state', 'zip_code', 'country', 'continent', 'birthday']\n",
      "______________________\n",
      "<class 'pandas.core.frame.DataFrame'>\n",
      "RangeIndex: 51 entries, 0 to 50\n",
      "Data columns (total 10 columns):\n",
      " #   Column        Non-Null Count  Dtype \n",
      "---  ------        --------------  ----- \n",
      " 0   customer_key  51 non-null     object\n",
      " 1   gender        51 non-null     object\n",
      " 2   name          51 non-null     object\n",
      " 3   city          51 non-null     object\n",
      " 4   state_code    51 non-null     object\n",
      " 5   state         51 non-null     object\n",
      " 6   zip_code      51 non-null     int64 \n",
      " 7   country       51 non-null     object\n",
      " 8   continent     51 non-null     object\n",
      " 9   birthday      51 non-null     object\n",
      "dtypes: int64(1), object(9)\n",
      "memory usage: 4.1+ KB\n",
      "None\n",
      "https://firstworkshop.s3.us-east-1.amazonaws.com/CSV/products.csv\n",
      "CSV Columns: ['product_key', 'product_name', 'brand', 'color', 'unit_cost_usd', 'unit_price_usd', 'subcategory_key', 'subcategory', 'category_key', 'category']\n",
      "______________________\n",
      "<class 'pandas.core.frame.DataFrame'>\n",
      "RangeIndex: 100 entries, 0 to 99\n",
      "Data columns (total 10 columns):\n",
      " #   Column           Non-Null Count  Dtype  \n",
      "---  ------           --------------  -----  \n",
      " 0   product_key      100 non-null    object \n",
      " 1   product_name     100 non-null    object \n",
      " 2   brand            100 non-null    object \n",
      " 3   color            100 non-null    object \n",
      " 4   unit_cost_usd    100 non-null    float64\n",
      " 5   unit_price_usd   100 non-null    float64\n",
      " 6   subcategory_key  100 non-null    object \n",
      " 7   subcategory      100 non-null    object \n",
      " 8   category_key     100 non-null    object \n",
      " 9   category         100 non-null    object \n",
      "dtypes: float64(2), object(8)\n",
      "memory usage: 7.9+ KB\n",
      "None\n",
      "https://firstworkshop.s3.us-east-1.amazonaws.com/CSV/sales.csv\n",
      "CSV Columns: ['order_number', 'line_item', 'order_date', 'delivery_date', 'customer_key', 'store_key', 'product_key', 'quantity', 'currency_code']\n",
      "______________________\n",
      "<class 'pandas.core.frame.DataFrame'>\n",
      "RangeIndex: 211 entries, 0 to 210\n",
      "Data columns (total 9 columns):\n",
      " #   Column         Non-Null Count  Dtype \n",
      "---  ------         --------------  ----- \n",
      " 0   order_number   211 non-null    object\n",
      " 1   line_item      211 non-null    int64 \n",
      " 2   order_date     211 non-null    object\n",
      " 3   delivery_date  211 non-null    object\n",
      " 4   customer_key   211 non-null    object\n",
      " 5   store_key      211 non-null    object\n",
      " 6   product_key    211 non-null    object\n",
      " 7   quantity       211 non-null    int64 \n",
      " 8   currency_code  211 non-null    object\n",
      "dtypes: int64(2), object(7)\n",
      "memory usage: 15.0+ KB\n",
      "None\n"
     ]
    }
   ],
   "source": [
    "for file in files:\n",
    "    s3_key = file\n",
    "    print(get_public_url(s3_key))\n",
    "\n",
    "    if file.endswith(\".csv\"):\n",
    "        try:\n",
    "            df = pd.read_csv(get_public_url(s3_key))\n",
    "            print(\"CSV Columns:\", df.columns.tolist())\n",
    "            print(\"______________________\")\n",
    "            print(df.info())\n",
    "        except Exception as e:\n",
    "            print(f\"Failed to read CSV file: {e}\")   \n",
    "\n",
    "    if file.endswith(\".json\"):\n",
    "        try:\n",
    "            df = pd.read_json(get_public_url(s3_key))\n",
    "            print(\"JSON Columns:\", df.columns.tolist())\n",
    "            print(\"______________________\")\n",
    "            print(df.info())\n",
    "        except Exception as e:\n",
    "            print(f\"Failed to read JSON file: {e}\")"
   ]
  }
 ],
 "metadata": {
  "kernelspec": {
   "display_name": "venv (3.13.1)",
   "language": "python",
   "name": "python3"
  },
  "language_info": {
   "codemirror_mode": {
    "name": "ipython",
    "version": 3
   },
   "file_extension": ".py",
   "mimetype": "text/x-python",
   "name": "python",
   "nbconvert_exporter": "python",
   "pygments_lexer": "ipython3",
   "version": "3.13.1"
  }
 },
 "nbformat": 4,
 "nbformat_minor": 5
}
